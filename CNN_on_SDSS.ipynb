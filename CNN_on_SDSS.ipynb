{
  "nbformat": 4,
  "nbformat_minor": 0,
  "metadata": {
    "colab": {
      "provenance": [],
      "collapsed_sections": [
        "VP_wTrfR7Uo1"
      ],
      "gpuType": "T4",
      "include_colab_link": true
    },
    "kernelspec": {
      "name": "python3",
      "display_name": "Python 3"
    },
    "language_info": {
      "name": "python"
    },
    "accelerator": "GPU",
    "gpuClass": "standard"
  },
  "cells": [
    {
      "cell_type": "markdown",
      "metadata": {
        "id": "view-in-github",
        "colab_type": "text"
      },
      "source": [
        "<a href=\"https://colab.research.google.com/github/UMARAMINCHOHAN/Machine-Learning-Assignment/blob/main/CNN_on_SDSS.ipynb\" target=\"_parent\"><img src=\"https://colab.research.google.com/assets/colab-badge.svg\" alt=\"Open In Colab\"/></a>"
      ]
    },
    {
      "cell_type": "markdown",
      "source": [
        "#SAMINA MUSHTAQ CONTRIBUTION"
      ],
      "metadata": {
        "id": "CctVuGsL6yFK"
      }
    },
    {
      "cell_type": "code",
      "source": [
        "from google.colab import drive\n",
        "drive.mount('/content/drive')"
      ],
      "metadata": {
        "colab": {
          "base_uri": "https://localhost:8080/"
        },
        "id": "rgKBtiGs1Mls",
        "outputId": "7fc298b2-0259-4c2e-babf-c2efe58f8b51"
      },
      "execution_count": null,
      "outputs": [
        {
          "output_type": "stream",
          "name": "stdout",
          "text": [
            "Drive already mounted at /content/drive; to attempt to forcibly remount, call drive.mount(\"/content/drive\", force_remount=True).\n"
          ]
        }
      ]
    },
    {
      "cell_type": "code",
      "execution_count": null,
      "metadata": {
        "colab": {
          "base_uri": "https://localhost:8080/"
        },
        "id": "VnL0-PkzMCWN",
        "outputId": "bf58525d-7038-4207-cdeb-49271acb6217"
      },
      "outputs": [
        {
          "output_type": "stream",
          "name": "stdout",
          "text": [
            "Found 6000 files belonging to 2 classes.\n",
            "Using 3000 files for training.\n",
            "Found 6000 files belonging to 2 classes.\n",
            "Using 3000 files for validation.\n",
            "Found 2000 files belonging to 2 classes.\n"
          ]
        }
      ],
      "source": [
        "import tensorflow as tf\n",
        "\n",
        "# Define the batch size and image size\n",
        "batch_size = 32\n",
        "img_size = (64, 64)\n",
        "\n",
        "# Load the training data\n",
        "train_data = tf.keras.preprocessing.image_dataset_from_directory(\n",
        "    '/content/drive/MyDrive/Group_Project_Data/Train',  # Path to the training data directory\n",
        "    batch_size=batch_size,  # Number of images per batch\n",
        "    image_size=img_size,  # Size of the images\n",
        "    shuffle=True,  # Shuffle the data\n",
        "    seed=42,  # Random seed for shuffling\n",
        "    validation_split=0.5,  # Split off 20% of the data for validation\n",
        "    subset='training',  # Use the training subset of the data\n",
        "    label_mode='binary', # Classify the images as binary (real/fake)\n",
        "    color_mode='grayscale' # Use grayscale images for faster training\n",
        ")\n",
        "\n",
        "# Load the validation data\n",
        "val_data = tf.keras.preprocessing.image_dataset_from_directory(\n",
        "    '/content/drive/MyDrive/Group_Project_Data/Train',  # Path to the training data directory\n",
        "    batch_size=batch_size,  # Number of images per batch\n",
        "    image_size=img_size,  # Size of the images\n",
        "    shuffle=True,  # Shuffle the data\n",
        "    seed=42,  # Random seed for shuffling\n",
        "    validation_split=0.5,  # Split off 20% of the data for validation\n",
        "    subset='validation',  # Use the validation subset of the data\n",
        "    label_mode='binary', # Classify the images as binary (real/fake)\n",
        "    color_mode='grayscale' # Use grayscale images for faster training\n",
        ")\n",
        "\n",
        "# Load the test data\n",
        "test_data = tf.keras.preprocessing.image_dataset_from_directory(\n",
        "    '/content/drive/MyDrive/Group_Project_Data/Valid',  # Path to the test data directory\n",
        "    batch_size=batch_size,  # Number of images per batch\n",
        "    image_size=img_size,  # Size of the images\n",
        "    shuffle=False,  # Don't shuffle the data\n",
        "    label_mode='binary', # Classify the images as binary (real/fake)\n",
        "    color_mode='grayscale' # Use grayscale images for faster training\n",
        ")\n"
      ]
    },
    {
      "cell_type": "markdown",
      "source": [
        "#KHUBAIB AHMAD CONTRIBUTION"
      ],
      "metadata": {
        "id": "Ju1QfasE6-kL"
      }
    },
    {
      "cell_type": "code",
      "source": [
        "# Create the CNN model\n",
        "\n",
        "model = tf.keras.models.Sequential([\n",
        "    tf.keras.layers.experimental.preprocessing.Rescaling(1./255, input_shape=(64, 64, 1)),\n",
        "    tf.keras.layers.Conv2D(32, 3, activation='relu'),\n",
        "    tf.keras.layers.MaxPooling2D(),\n",
        "    tf.keras.layers.Conv2D(64, 3, activation='relu'),\n",
        "    tf.keras.layers.MaxPooling2D(),\n",
        "    tf.keras.layers.Conv2D(128, 3, activation='relu'),\n",
        "    tf.keras.layers.GlobalAveragePooling2D(),\n",
        "    tf.keras.layers.Dense(128, activation='relu'),\n",
        "    tf.keras.layers.Dense(1, activation='sigmoid')\n",
        "])\n"
      ],
      "metadata": {
        "id": "h3ovIYtil0eI"
      },
      "execution_count": null,
      "outputs": []
    },
    {
      "cell_type": "code",
      "source": [
        "from tensorflow.keras.callbacks import EarlyStopping\n",
        "\n",
        "# Compile the model\n",
        "model.compile(\n",
        "    optimizer='adam',\n",
        "    loss='binary_crossentropy',\n",
        "    metrics=['accuracy']\n",
        ")\n",
        "\n",
        "# Define early stopping based on validation loss\n",
        "early_stop = EarlyStopping(monitor='val_loss', patience=3)\n",
        "\n",
        "# Train the model\n",
        "history = model.fit(\n",
        "    train_data,\n",
        "    validation_data=val_data,\n",
        "    epochs=10\n",
        ")"
      ],
      "metadata": {
        "colab": {
          "base_uri": "https://localhost:8080/"
        },
        "id": "DhU6-EIxl3fA",
        "outputId": "c993d151-b524-40f2-e1b1-8c992fe5ce21"
      },
      "execution_count": null,
      "outputs": [
        {
          "output_type": "stream",
          "name": "stdout",
          "text": [
            "Epoch 1/10\n",
            "94/94 [==============================] - 930s 10s/step - loss: 0.5146 - accuracy: 0.7433 - val_loss: 0.0937 - val_accuracy: 0.9833\n",
            "Epoch 2/10\n",
            "94/94 [==============================] - 5s 53ms/step - loss: 0.0614 - accuracy: 0.9843 - val_loss: 0.0860 - val_accuracy: 0.9687\n",
            "Epoch 3/10\n",
            "94/94 [==============================] - 6s 61ms/step - loss: 0.0303 - accuracy: 0.9917 - val_loss: 0.0143 - val_accuracy: 0.9947\n",
            "Epoch 4/10\n",
            "94/94 [==============================] - 5s 54ms/step - loss: 0.0149 - accuracy: 0.9963 - val_loss: 0.0607 - val_accuracy: 0.9863\n",
            "Epoch 5/10\n",
            "94/94 [==============================] - 6s 67ms/step - loss: 0.0141 - accuracy: 0.9940 - val_loss: 0.0076 - val_accuracy: 0.9980\n",
            "Epoch 6/10\n",
            "94/94 [==============================] - 5s 54ms/step - loss: 0.0108 - accuracy: 0.9967 - val_loss: 0.0055 - val_accuracy: 0.9990\n",
            "Epoch 7/10\n",
            "94/94 [==============================] - 8s 83ms/step - loss: 0.0294 - accuracy: 0.9897 - val_loss: 0.0148 - val_accuracy: 0.9937\n",
            "Epoch 8/10\n",
            "94/94 [==============================] - 5s 56ms/step - loss: 0.0143 - accuracy: 0.9953 - val_loss: 0.0401 - val_accuracy: 0.9903\n",
            "Epoch 9/10\n",
            "94/94 [==============================] - 6s 66ms/step - loss: 0.0440 - accuracy: 0.9853 - val_loss: 0.0080 - val_accuracy: 0.9980\n",
            "Epoch 10/10\n",
            "94/94 [==============================] - 5s 54ms/step - loss: 0.0043 - accuracy: 0.9987 - val_loss: 0.0046 - val_accuracy: 0.9993\n"
          ]
        }
      ]
    },
    {
      "cell_type": "code",
      "source": [
        "# Saving model\n",
        "\n",
        "model.save('/content/drive/MyDrive/Machine Learning Assignment/Model/')"
      ],
      "metadata": {
        "colab": {
          "base_uri": "https://localhost:8080/"
        },
        "id": "Kbx7dc1emZeY",
        "outputId": "403b87a7-84d5-40ab-c6de-ac60ae56df9c"
      },
      "execution_count": null,
      "outputs": [
        {
          "output_type": "stream",
          "name": "stderr",
          "text": [
            "WARNING:absl:Found untraced functions such as _jit_compiled_convolution_op, _jit_compiled_convolution_op, _jit_compiled_convolution_op while saving (showing 3 of 3). These functions will not be directly callable after loading.\n"
          ]
        }
      ]
    },
    {
      "cell_type": "code",
      "source": [
        "# zip the model\n",
        "!zip -r /content/drive/MyDrive/Machine Learning Assignment/Model.zip /content/drive/MyDrive/Machine Learning Assignment/Model/"
      ],
      "metadata": {
        "colab": {
          "base_uri": "https://localhost:8080/"
        },
        "id": "-UrTRDfGrz_i",
        "outputId": "9bf11df8-1d02-4e6c-cfda-3f63070e04b7"
      },
      "execution_count": null,
      "outputs": [
        {
          "output_type": "stream",
          "name": "stdout",
          "text": [
            "\tzip warning: name not matched: Learning\n",
            "\tzip warning: name not matched: Assignment/Model.zip\n",
            "\tzip warning: name not matched: /content/drive/MyDrive/Machine\n",
            "\tzip warning: name not matched: Learning\n",
            "\tzip warning: name not matched: Assignment/Model/\n",
            "\n",
            "zip error: Nothing to do! (try: zip -r /content/drive/MyDrive/Machine . -i Learning Assignment/Model.zip /content/drive/MyDrive/Machine Learning Assignment/Model/)\n"
          ]
        }
      ]
    },
    {
      "cell_type": "markdown",
      "source": [
        "#UMAR AMIN CHOHAN CONTRIBUTION"
      ],
      "metadata": {
        "id": "VP_wTrfR7Uo1"
      }
    },
    {
      "cell_type": "code",
      "source": [
        "import matplotlib.pyplot as plt\n",
        "\n",
        "# Plot the training and validation accuracy and loss\n",
        "acc = history.history['accuracy']\n",
        "val_acc = history.history['val_accuracy']\n",
        "loss = history.history['loss']\n",
        "val_loss = history.history['val_loss']\n",
        "\n",
        "epochs_range = range(1, 11)\n",
        "\n",
        "plt.figure(figsize=(12, 4))\n",
        "plt.subplot(1, 2, 1)\n",
        "plt.plot(epochs_range, acc, label='Training Accuracy')\n",
        "plt.plot(epochs_range, val_acc, label='Validation Accuracy')\n",
        "plt.legend(loc='lower right')\n",
        "plt.title('Training and Validation Accuracy')\n",
        "\n",
        "plt.subplot(1, 2, 2)\n",
        "plt.plot(epochs_range, loss, label='Training Loss')\n",
        "plt.plot(epochs_range, val_loss, label='Validation Loss')\n",
        "plt.legend(loc='upper right')\n",
        "plt.title('Training and Validation Loss')\n",
        "\n",
        "plt.show()"
      ],
      "metadata": {
        "colab": {
          "base_uri": "https://localhost:8080/",
          "height": 341
        },
        "id": "qxwOhwAtl68Q",
        "outputId": "d9c28be8-8eb9-4712-c4d3-fa5777057c8f"
      },
      "execution_count": null,
      "outputs": [
        {
          "output_type": "display_data",
          "data": {
            "text/plain": [
              "<Figure size 1200x400 with 2 Axes>"
            ],
            "image/png": "[encoded data removed]"
          },
          "metadata": {}
        }
      ]
    },
    {
      "cell_type": "markdown",
      "source": [
        "#SONA SHANAWAZ CONTRIBUTION"
      ],
      "metadata": {
        "id": "xlUtPRvr7oji"
      }
    },
    {
      "cell_type": "code",
      "source": [
        "# Evaluate the model on the test set and record the test accuracy\n",
        "test_loss, test_accuracy = model.evaluate(test_data)\n",
        "\n",
        "# Plot the test accuracy\n",
        "plt.figure(figsize=(6, 4))\n",
        "plt.bar(['Test Accuracy'], [test_accuracy])\n",
        "plt.ylim([0, 1])\n",
        "plt.title('Test Accuracy')\n",
        "plt.show()\n"
      ],
      "metadata": {
        "colab": {
          "base_uri": "https://localhost:8080/",
          "height": 409
        },
        "id": "_Kq3wlmRmUoo",
        "outputId": "98b506dc-46f5-4907-8c0e-ad054d179ada"
      },
      "execution_count": null,
      "outputs": [
        {
          "output_type": "stream",
          "name": "stdout",
          "text": [
            "63/63 [==============================] - 528s 8s/step - loss: 0.0032 - accuracy: 0.9990\n"
          ]
        },
        {
          "output_type": "display_data",
          "data": {
            "text/plain": [
              "<Figure size 600x400 with 1 Axes>"
            ],
            "image/png": "[encoded data removed]"
          },
          "metadata": {}
        }
      ]
    },
    {
      "cell_type": "code",
      "source": [
        "# Test saved model\n",
        "\n",
        "loaded_model = tf.keras.models.load_model('/content/drive/MyDrive/Dataset/model/')\n",
        "loaded_model.summary()"
      ],
      "metadata": {
        "colab": {
          "base_uri": "https://localhost:8080/"
        },
        "id": "cFIAwAOItW-J",
        "outputId": "dfafd7e3-193b-4ab6-8e34-373df5e56118"
      },
      "execution_count": null,
      "outputs": [
        {
          "output_type": "stream",
          "name": "stdout",
          "text": [
            "Model: \"sequential\"\n",
            "_________________________________________________________________\n",
            " Layer (type)                Output Shape              Param #   \n",
            "=================================================================\n",
            " rescaling (Rescaling)       (None, 64, 64, 1)         0         \n",
            "                                                                 \n",
            " conv2d (Conv2D)             (None, 62, 62, 32)        320       \n",
            "                                                                 \n",
            " max_pooling2d (MaxPooling2D  (None, 31, 31, 32)       0         \n",
            " )                                                               \n",
            "                                                                 \n",
            " conv2d_1 (Conv2D)           (None, 29, 29, 64)        18496     \n",
            "                                                                 \n",
            " max_pooling2d_1 (MaxPooling  (None, 14, 14, 64)       0         \n",
            " 2D)                                                             \n",
            "                                                                 \n",
            " conv2d_2 (Conv2D)           (None, 12, 12, 128)       73856     \n",
            "                                                                 \n",
            " global_average_pooling2d (G  (None, 128)              0         \n",
            " lobalAveragePooling2D)                                          \n",
            "                                                                 \n",
            " dense (Dense)               (None, 128)               16512     \n",
            "                                                                 \n",
            " dense_1 (Dense)             (None, 1)                 129       \n",
            "                                                                 \n",
            "=================================================================\n",
            "Total params: 109,313\n",
            "Trainable params: 109,313\n",
            "Non-trainable params: 0\n",
            "_________________________________________________________________\n"
          ]
        }
      ]
    }
  ]
}